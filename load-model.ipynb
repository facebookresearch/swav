{
 "cells": [
  {
   "cell_type": "markdown",
   "metadata": {},
   "source": [
    "# In this notebook\n",
    "\n",
    "I walk through loading the model and saving in its minimal format so that I can\n",
    "port it over to the other computer for training."
   ]
  },
  {
   "cell_type": "code",
   "execution_count": 6,
   "metadata": {},
   "outputs": [],
   "source": [
    "import torch\n",
    "import src.resnet50 as resnet_models"
   ]
  },
  {
   "cell_type": "code",
   "execution_count": 8,
   "metadata": {},
   "outputs": [],
   "source": [
    "# Load the architecture and the weights\n",
    "model = resnet_models.__dict__[\"resnet50\"](output_dim=0, eval_mode=True)\n",
    "model_path = \"./experiments/solar/swav_100ep_pretrain_2/checkpoints/ckp-99.pth\"\n",
    "state_dict = torch.load(model_path)"
   ]
  },
  {
   "cell_type": "code",
   "execution_count": 9,
   "metadata": {},
   "outputs": [
    {
     "name": "stdout",
     "output_type": "stream",
     "text": [
      "Load pretrained model with msg: _IncompatibleKeys(missing_keys=[], unexpected_keys=['projection_head.0.weight', 'projection_head.0.bias', 'projection_head.1.weight', 'projection_head.1.bias', 'projection_head.1.running_mean', 'projection_head.1.running_var', 'projection_head.1.num_batches_tracked', 'projection_head.3.weight', 'projection_head.3.bias', 'prototypes.weight'])\n"
     ]
    }
   ],
   "source": [
    "# Pulled this code from eval_linear.py\n",
    "# This loads the relevant parts of the state dict on top of the model.\n",
    "\n",
    "if \"state_dict\" in state_dict:\n",
    "    state_dict = state_dict[\"state_dict\"]\n",
    "# remove prefixe \"module.\"\n",
    "state_dict = {k.replace(\"module.\", \"\"): v for k, v in state_dict.items()}\n",
    "for k, v in model.state_dict().items():\n",
    "    if k not in list(state_dict):\n",
    "        print('key \"{}\" could not be found in provided state dict'.format(k))\n",
    "    elif state_dict[k].shape != v.shape:\n",
    "        print('key \"{}\" is of different shape in model and provided state dict'.format(k))\n",
    "        state_dict[k] = v\n",
    "msg = model.load_state_dict(state_dict, strict=False)\n",
    "print(\"Load pretrained model with msg: {}\".format(msg))"
   ]
  },
  {
   "cell_type": "code",
   "execution_count": 12,
   "metadata": {},
   "outputs": [],
   "source": [
    "# Save the model in the desired path for future use.\n",
    "torch.save(model.state_dict(), './experiments/solar/swav-s2.pt')"
   ]
  }
 ],
 "metadata": {
  "kernelspec": {
   "display_name": "Python 3",
   "language": "python",
   "name": "python3"
  },
  "language_info": {
   "codemirror_mode": {
    "name": "ipython",
    "version": 3
   },
   "file_extension": ".py",
   "mimetype": "text/x-python",
   "name": "python",
   "nbconvert_exporter": "python",
   "pygments_lexer": "ipython3",
   "version": "3.6.9"
  },
  "orig_nbformat": 4
 },
 "nbformat": 4,
 "nbformat_minor": 2
}
